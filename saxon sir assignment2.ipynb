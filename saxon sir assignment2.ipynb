{
 "cells": [
  {
   "cell_type": "code",
   "execution_count": null,
   "id": "ebed706f",
   "metadata": {},
   "outputs": [],
   "source": [
    "# write a program to display \"hello\" if a number entered by user is a multiple of 5 ortherwise print \"bye\""
   ]
  },
  {
   "cell_type": "code",
   "execution_count": 1,
   "id": "cf4ec160",
   "metadata": {},
   "outputs": [
    {
     "name": "stdout",
     "output_type": "stream",
     "text": [
      "enter your number25\n",
      "hello\n"
     ]
    }
   ],
   "source": [
    "x=int(input(\"enter your number\"))\n",
    "if x>20 and x%5==0:\n",
    "     print(\"hello\")\n",
    "else:\n",
    "    print(\"bye\")"
   ]
  },
  {
   "cell_type": "code",
   "execution_count": null,
   "id": "4451c66e",
   "metadata": {},
   "outputs": [],
   "source": [
    "##write a prog to calculate the electricity bill (accept number of units from user) according tothe following criteria:\n",
    "# first 100 units              nocharge\n",
    "#next 100 units                rs 5 per unit\n",
    "#after 200 units                rs 10 per unit\n",
    "(ex: if input unit is 350 than total bill amount is 2000)"
   ]
  },
  {
   "cell_type": "code",
   "execution_count": 2,
   "id": "ef6e43dd",
   "metadata": {},
   "outputs": [
    {
     "name": "stdout",
     "output_type": "stream",
     "text": [
      "enter your units250\n",
      "the bill is 1000\n"
     ]
    }
   ],
   "source": [
    "unit=int(input(\"enter your units\"))\n",
    "if unit<=100:\n",
    "    print(\"no charge\")\n",
    "elif unit>100 and unit<=200:\n",
    "    unit=unit-100\n",
    "    print(\"the bill is\", unit*5)\n",
    "else:\n",
    "    x=100*5\n",
    "    y=(unit-200)*10\n",
    "    print(\"the bill is\",x+y)\n",
    "    \n",
    "    "
   ]
  },
  {
   "cell_type": "code",
   "execution_count": 3,
   "id": "eaf0642a",
   "metadata": {},
   "outputs": [
    {
     "name": "stdout",
     "output_type": "stream",
     "text": [
      "enter the number39\n",
      "tha last number is divisible by 3\n"
     ]
    }
   ],
   "source": [
    "x=int(input(\"enter the number\"))\n",
    "var=x%10\n",
    "if var%3==0:\n",
    "    print(\"tha last number is divisible by 3\")\n",
    "else:\n",
    "    print(\"notdivisible\")"
   ]
  },
  {
   "cell_type": "code",
   "execution_count": 4,
   "id": "b8c9c49c",
   "metadata": {},
   "outputs": [
    {
     "name": "stdout",
     "output_type": "stream",
     "text": [
      "enter the number18\n",
      "notdivisible\n"
     ]
    }
   ],
   "source": [
    "x=int(input(\"enter the number\"))\n",
    "var=x%10\n",
    "if var%3==0:\n",
    "    print(\"tha last number is divisible by 3\")\n",
    "else:\n",
    "    print(\"notdivisible\")"
   ]
  },
  {
   "cell_type": "code",
   "execution_count": null,
   "id": "1d2bdc4d",
   "metadata": {},
   "outputs": [],
   "source": [
    "#Write a program to accept percentage from the user and display the \n",
    "grade according to the following criteria:\n",
    "\n",
    "         Marks                                    Grade\n",
    "         > 90                                        A\n",
    "         > 80 and <= 90                              B\n",
    "         >= 60 and <= 80                             C\n",
    "         below 60                                    D\n"
   ]
  },
  {
   "cell_type": "code",
   "execution_count": 8,
   "id": "b4c4757c",
   "metadata": {},
   "outputs": [
    {
     "name": "stdout",
     "output_type": "stream",
     "text": [
      "enter your marks876\n",
      "your grade is B\n"
     ]
    }
   ],
   "source": [
    "x=int(input(\"enter your marks\"))\n",
    "percentage=(x/1000)*100\n",
    "if percentage>90:\n",
    "    print(\"your grade is A\")\n",
    "elif percentage>80 and percentage<=90:\n",
    "    print(\"your grade is B\")\n",
    "elif percentage>=60 and percentage<=80:\n",
    "    print(\"your grade is C\")\n",
    "elif percentage<60:\n",
    "    print(\"your grade is D\")\n",
    "else:\n",
    "    print(\"not upto mark\")\n",
    "    \n"
   ]
  },
  {
   "cell_type": "code",
   "execution_count": 6,
   "id": "600b9ae6",
   "metadata": {},
   "outputs": [
    {
     "name": "stdout",
     "output_type": "stream",
     "text": [
      "enter the number3\n",
      "number entered is odd number\n"
     ]
    }
   ],
   "source": [
    "x=int(input(\"enter the number\"))\n",
    "if x%2==0:\n",
    "    print(\"number entered is even number\")\n",
    "elif not(x%2)==0:\n",
    "    print(\"number entered is odd number\")\n",
    "else:\n",
    "    print(\"not satisfied\")"
   ]
  },
  {
   "cell_type": "code",
   "execution_count": 7,
   "id": "c4d1c360",
   "metadata": {},
   "outputs": [
    {
     "name": "stdout",
     "output_type": "stream",
     "text": [
      "enter age19\n",
      "not eligible for voting\n"
     ]
    }
   ],
   "source": [
    "age=int(input(\"enter age\"))\n",
    "if age>18 and age==18:\n",
    "    print(\"person is eligible for voting\")\n",
    "else:\n",
    "    print(\"not eligible for voting\")"
   ]
  },
  {
   "cell_type": "code",
   "execution_count": null,
   "id": "2aef24b3",
   "metadata": {},
   "outputs": [],
   "source": []
  }
 ],
 "metadata": {
  "kernelspec": {
   "display_name": "Python 3 (ipykernel)",
   "language": "python",
   "name": "python3"
  },
  "language_info": {
   "codemirror_mode": {
    "name": "ipython",
    "version": 3
   },
   "file_extension": ".py",
   "mimetype": "text/x-python",
   "name": "python",
   "nbconvert_exporter": "python",
   "pygments_lexer": "ipython3",
   "version": "3.9.12"
  }
 },
 "nbformat": 4,
 "nbformat_minor": 5
}
